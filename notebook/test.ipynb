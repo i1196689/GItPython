{
 "cells": [
  {
   "cell_type": "code",
   "execution_count": 1,
   "metadata": {},
   "outputs": [
    {
     "name": "stdout",
     "output_type": "stream",
     "text": [
      "Hello everyone!\n",
      "Hello everyone!\n",
      "Hello everyone!\n",
      "Hello everyone!\n",
      "Hello everyone!\n",
      "Hello everyone!\n",
      "Hello everyone!\n",
      "Hello everyone!\n",
      "Hello everyone!\n",
      "Hello everyone!\n",
      "Hello everyone!\n",
      "Hello everyone!\n",
      "Hello everyone!\n"
     ]
    }
   ],
   "source": [
    "import tkinter as tk\n",
    "class APP:\n",
    "    def __init__(self,master):\n",
    "        frame=tk.Frame(master)\n",
    "        frame.pack()\n",
    "\n",
    "        self.hi_there=tk.Button(frame,text='打招呼！',fg='blue',command=self.say_hi)\n",
    "        self.hi_there.pack()\n",
    "    \n",
    "    def say_hi(self):\n",
    "        print('Hello everyone!')\n",
    "\n",
    "root=tk.Tk()\n",
    "app=APP(root)\n",
    "root.mainloop()"
   ]
  },
  {
   "cell_type": "code",
   "execution_count": null,
   "metadata": {},
   "outputs": [],
   "source": []
  }
 ],
 "metadata": {
  "kernelspec": {
   "display_name": "Python 3",
   "language": "python",
   "name": "python3"
  },
  "language_info": {
   "codemirror_mode": {
    "name": "ipython",
    "version": 3
   },
   "file_extension": ".py",
   "mimetype": "text/x-python",
   "name": "python",
   "nbconvert_exporter": "python",
   "pygments_lexer": "ipython3",
   "version": "3.7.4"
  }
 },
 "nbformat": 4,
 "nbformat_minor": 2
}
